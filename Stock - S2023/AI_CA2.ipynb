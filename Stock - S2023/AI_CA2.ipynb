{
 "cells": [
  {
   "attachments": {},
   "cell_type": "markdown",
   "metadata": {},
   "source": [
    "<html>\n",
    "<div>\n",
    "  <img src=\"https://www.engineersgarage.com/wp-content/uploads/2021/11/TCH36-01-scaled.jpg\" width=360px width=auto style=\"vertical-align: middle;\">\n",
    "  <span style=\"font-family: Georgia; font-size:30px; color: white;\"> <br/> University of Tehran <br/> AI_CA2 <br/> Spring 02 </span>\n",
    "</div>\n",
    "<span style=\"font-family: Georgia; font-size:15pt; color: white; vertical-align: middle;\"> low_mist - std id: 810100186 </span>\n",
    "</html>\n",
    "\n",
    "in this notebook we are to learn about genetic algorithms and how we can use them to find results when ordinary search algorithms are not effective."
   ]
  },
  {
   "attachments": {},
   "cell_type": "markdown",
   "metadata": {},
   "source": [
    "## Problem Description\n",
    "in this problem we are given return and risk of investment in some companies (in a sample.csv file) and we want to find coefficients for each company so that we gain  a certain amount of profit and other constraints that are as below:\n",
    "- return should at least be 1000 percent\n",
    "- risk should be at most 60 percent\n",
    "- we have to invest in at least 30 different companies\n",
    "a sample result is given in sample_coeffs.csv file.\n",
    "Since normal search algorithms wont be effective here we use genetic algorithms to find a solution. In this algorithm we start that is derived from natural selection we have an initial population which will evolve over time so that only the best survives."
   ]
  },
  {
   "attachments": {},
   "cell_type": "markdown",
   "metadata": {},
   "source": [
    "## Modeling\n",
    "\n",
    "### Consts\n",
    "Since we have lots of const variables like chance of mutation and so forth, I decided to store all of them in a class."
   ]
  },
  {
   "cell_type": "code",
   "execution_count": 39,
   "metadata": {},
   "outputs": [],
   "source": [
    "from __future__ import annotations\n",
    "import random\n",
    "import bisect\n",
    "from dataclasses import dataclass\n",
    "from itertools import accumulate\n",
    "import pandas as pd\n",
    "from copy import deepcopy\n",
    "from typing import Any, Callable, Optional\n",
    "import matplotlib.pyplot as plt\n",
    "\n",
    "@dataclass\n",
    "class Consts:\n",
    "    crossover_probability: int \n",
    "    mutation_probability: int\n",
    "    maximum_number_of_evolutions: int\n",
    "    carry_count: int\n",
    "    chromosome_size: int\n",
    "    return_list: list[float]\n",
    "    risk_list: list[float]\n",
    "    return_threshold: float\n",
    "    risk_threshold: float\n",
    "    num_of_investments_threshold: int\n",
    "    population_size: int\n",
    "    sum_of_ranks: int\n",
    "    weights: list[float]\n",
    "    min_investment_percent: float\n",
    "    initial_percent_not_zero: float"
   ]
  },
  {
   "attachments": {},
   "cell_type": "markdown",
   "metadata": {},
   "source": [
    "## DataFrame\n",
    "We should read csv file and store it in a data frame and then get return and risk information. "
   ]
  },
  {
   "cell_type": "code",
   "execution_count": 40,
   "metadata": {},
   "outputs": [],
   "source": [
    "CSV_ADDRESS = \"assets/data/data.csv\"\n",
    "df = pd.read_csv(CSV_ADDRESS)\n",
    "\n",
    "consts = Consts(\n",
    "    crossover_probability = 0.6,\n",
    "    mutation_probability = 0.2,\n",
    "    chromosome_size = len(df[\"Unnamed: 0\"]),\n",
    "    carry_count = 80,\n",
    "    maximum_number_of_evolutions = 1000,\n",
    "    return_list = df[\"return\"],\n",
    "    risk_list = df[\"risk\"],\n",
    "    population_size = 400,\n",
    "    return_threshold = 10,\n",
    "    risk_threshold = 0.6,\n",
    "    num_of_investments_threshold = 30,\n",
    "    sum_of_ranks = 399 * 200,\n",
    "    weights = [(i / (399 * 200)) for i in range(400)],\n",
    "    min_investment_percent = 1e-12,\n",
    "    initial_percent_not_zero = 0.1\n",
    ")"
   ]
  },
  {
   "attachments": {},
   "cell_type": "markdown",
   "metadata": {},
   "source": [
    "### Chromosome\n",
    "It is every individual in our population. every gene equals to a coefficient which shows how much we invest in that company. It has some useful methods like mutation, mating, etc.\n",
    "- `mutate` is a function which mutates the current chromosome\n",
    "- `mate` takes another chromosome and returns a new offspring of that chromosome\n",
    "- `calc_fitness` in genetic algorithms we need a fitness function to calculate how good this new chromosome is \n",
    "- `normalize` will change coefficients so that the sum is 1\n",
    "- `is_goal` check to see if have met the needs"
   ]
  },
  {
   "cell_type": "code",
   "execution_count": 41,
   "metadata": {},
   "outputs": [],
   "source": [
    "class Chromosome:\n",
    "    def __init__(self, coefficients: Optional[list[int]] = None):\n",
    "        self.fitness = 0\n",
    "        if coefficients is not None:\n",
    "            self.coefficients = coefficients\n",
    "        else: \n",
    "            self.coefficients = [random.random() if random.random() < consts.initial_percent_not_zero else 0 \\\n",
    "                                for _ in range(consts.chromosome_size)]\n",
    "        \n",
    "    def mutate(self):\n",
    "        if random.random() < consts.mutation_probability:\n",
    "            index = random.randint(0, consts.chromosome_size - 1)\n",
    "            self.coefficients[index] = random.random()\n",
    "            \n",
    "        for coefficient in self.coefficients:\n",
    "            if coefficient < consts.min_investment_percent:\n",
    "                coefficient = 0\n",
    "        \n",
    "            \n",
    "    def mate(self, other: Any) -> Chromosome:\n",
    "        if not isinstance(other, Chromosome):\n",
    "            raise ValueError(\"can't mate with another type\")\n",
    "        \n",
    "        offspring_coefficients = self.coefficients\n",
    "        if random.random() < consts.crossover_probability:\n",
    "            crossover_point = random.randint(0, consts.chromosome_size - 1)\n",
    "            if random.randint(0, 1) % 2 == 0:\n",
    "                offspring_coefficients[crossover_point:] = other.coefficients[crossover_point:]\n",
    "            else:\n",
    "                offspring_coefficients[:crossover_point] = other.coefficients[:crossover_point] \n",
    "            \n",
    "        offspring = Chromosome(offspring_coefficients) \n",
    "        return offspring\n",
    "    \n",
    "    def calc_return(self) -> float:\n",
    "        return sum(x * y for x, y in zip(self.coefficients, consts.return_list))\n",
    "\n",
    "    def calc_risk(self) -> float:\n",
    "        return sum(i * j for i, j in zip(self.coefficients, consts.risk_list))\n",
    "    \n",
    "    def calc_fitness(self) -> float:\n",
    "        self.normalize()\n",
    "        self.fitness = self.calc_return() - self.calc_risk()\n",
    "               \n",
    "    def normalize(self):\n",
    "        sum_of_coefficients = sum(self.coefficients)\n",
    "        self.coefficients = [x / sum_of_coefficients for x in self.coefficients]\n",
    "        \n",
    "    def is_goal(self) -> bool:\n",
    "        return sum(x * y for x, y in zip(self.coefficients, consts.return_list)) >= consts.return_threshold and \\\n",
    "               sum(i * j for i, j in zip(self.coefficients, consts.risk_list)) <= consts.risk_threshold and \\\n",
    "               len(list(i for i in self.coefficients if i != 0)) >= consts.num_of_investments_threshold\n",
    "               \n",
    "    def __str__(self) -> str:\n",
    "        return f\"coefficients are:\\n{self.coefficients}\\nreturn: {self.calc_return()}\\nrisk: {self.calc_risk()}\"\n",
    "        return f\"return: {self.calc_return()}, risk: {self.calc_risk()}\""
   ]
  },
  {
   "attachments": {},
   "cell_type": "markdown",
   "metadata": {},
   "source": [
    "## Population\n",
    "The whole population which is consists of many chromosomes. It shows the world which we have now till next evolution."
   ]
  },
  {
   "cell_type": "code",
   "execution_count": 42,
   "metadata": {},
   "outputs": [],
   "source": [
    "class Population:\n",
    "    def __init__(self):\n",
    "        self.chromosomes = [Chromosome() for _ in range(consts.population_size)]\n",
    "        self.best_fitnesses = []\n",
    "        \n",
    "    def found_goal(self) -> tuple[bool, Chromosome]:\n",
    "        for chromosome in self.chromosomes:\n",
    "            chromosome.normalize()\n",
    "            if chromosome.is_goal():\n",
    "                return True, chromosome\n",
    "        return False, None\n",
    "    \n",
    "    def evolve(self):\n",
    "        self.chromosomes.sort(key = lambda x: x.fitness, reverse = True)\n",
    "        offsprings: list[Chromosome] = [None for _ in range(consts.population_size - consts.carry_count)]\n",
    "        for i in range(len(offsprings)):\n",
    "            first_parent = random.choices(self.chromosomes, consts.weights)[0]\n",
    "            second_parent = random.choices(self.chromosomes, consts.weights)[0]\n",
    "            offspring = first_parent.mate(second_parent)\n",
    "            offspring.mutate()\n",
    "            offsprings[i] = offspring\n",
    "        \n",
    "        self.chromosomes[consts.carry_count:] = offsprings\n",
    "        \n",
    "        random.shuffle(self.chromosomes)\n",
    "        \n",
    "    \n",
    "    def genetic_algorithm(self) -> Chromosome:\n",
    "        num_of_evolutions = 0\n",
    "        while num_of_evolutions <= consts.maximum_number_of_evolutions:\n",
    "            self.chromosomes.sort(key = lambda x: x.calc_return(), reverse = True)\n",
    "            found, chromosome = self.found_goal()\n",
    "            if found:\n",
    "                return chromosome\n",
    "            \n",
    "            self.best_fitnesses.append(self.chromosomes[0].calc_return())\n",
    "            self.evolve()\n",
    "            num_of_evolutions += 1\n",
    "        return None\n",
    "    \n",
    "    def plot_fitness(self):\n",
    "        plt.plot(self.best_fitnesses)\n",
    "        plt.xlabel('Generation')\n",
    "        plt.ylabel('Best Return')\n",
    "        plt.title('Best Return over Generations')\n",
    "        plt.show()\n",
    " "
   ]
  },
  {
   "attachments": {},
   "cell_type": "markdown",
   "metadata": {},
   "source": [
    "## Example Run"
   ]
  },
  {
   "cell_type": "code",
   "execution_count": 43,
   "metadata": {},
   "outputs": [],
   "source": [
    "population = Population()\n",
    "    \n",
    "answer = population.genetic_algorithm()\n",
    "if answer is not None:\n",
    "    df[\"coeffs\"] = answer.coefficients\n",
    "    df.to_csv(\"assets/data/result.csv\")  \n",
    "else:\n",
    "    print(\"not found\")"
   ]
  },
  {
   "cell_type": "code",
   "execution_count": 45,
   "metadata": {},
   "outputs": [
    {
     "data": {
      "image/png": "[encoded data removed]",
      "text/plain": [
       "<Figure size 640x480 with 1 Axes>"
      ]
     },
     "metadata": {},
     "output_type": "display_data"
    }
   ],
   "source": [
    "population.plot_fitness()"
   ]
  },
  {
   "attachments": {},
   "cell_type": "markdown",
   "metadata": {},
   "source": [
    "To check results we can do this"
   ]
  },
  {
   "cell_type": "code",
   "execution_count": 44,
   "metadata": {},
   "outputs": [
    {
     "name": "stdout",
     "output_type": "stream",
     "text": [
      "return:  10.873992029645187\n",
      "risk:  0.5748999290255458\n",
      "num of investments:  118\n"
     ]
    }
   ],
   "source": [
    "df2 = pd.read_csv(\"assets/data/result.csv\")\n",
    "print(\"return: \", sum(x * y for x, y in zip(df2[\"return\"], df2[\"coeffs\"])))\n",
    "print(\"risk: \", sum(x * y for x, y in zip(df2[\"risk\"], df2[\"coeffs\"])))\n",
    "print(\"num of investments: \", sum([1 for x in df2[\"coeffs\"] if x != 0]))"
   ]
  },
  {
   "attachments": {},
   "cell_type": "markdown",
   "metadata": {},
   "source": [
    "## Questions\n",
    "\n",
    "### 1. How can very large or very small population sizes affect the performance of the algorithm?  \n",
    "  If the population is too small, diversity decreases and not many cases are checked in each generation. So the chances of reaching the correct solution in the same number of generations is decreased. We can make this better by increasing the mutation probability and checking more generations.  \n",
    "  If the population is too large, the algorithm will take more time and resources than needed.  \n",
    "\n",
    "### 2. What happens if the population size increases in each generation?  \n",
    "  If the population grows with each generation, although the precision of the algorithm may increase because of more diversity, the time and memory consumption will increase in each step which is a problem and may reach some limitations.  \n",
    "  The population size is kept the same because it is supposed to converge by populating it with the chromosomes closer to the answer and discarding the ones further away. By adding more in each step, we are not working in favor of the convergence. Also, it is unnecessary to do this because we can remove the chromosomes with the lowest fitness from the population in order to keep the population size constant.  \n",
    "\n",
    "### 3. What is the effect of crossover and mutation? Is it possible to use only one of them?  \n",
    "  Crossover will create new chromosomes by combining two chromosomes while mutation changes a chromosome directly.  \n",
    "  Crossover is done with a much higher probability than mutation.  \n",
    "  Crossover hopes to reach better chromosomes by combining two good chromosomes while mutation is used to escape getting stuck in a local extremum.  \n",
    "  We can probably reach the solution by only using one of them but it will be most likely not efficient. But if we use only one of them, we may not be able to find the best solution. For example, if we use only crossover, we may stop at a local maximum. If we use only mutation, we may not be able to find the best solution. It is important to note that the crossover and mutation probabilities should be chosen carefully. The crossover probability is usually at least 80% and the mutation probability is usually at most 5%. \n",
    "\n",
    "### 4. How to accelerate the algorithm?\n",
    "Fitness function, parameters such as the probability of crossover and mutation, and the population size should be chosen carefully. Also, the crossover and mutation functions can affect the performance of the algorithm. Choosing the right amount for each parameter can make the algorithm run much more efficiently.   \n",
    "\n",
    "### 5. How to stop the algorithm if it is not converging?\n",
    "A common problem in genetic algorithms is that it may stop at a local maximum instead of the global maximum. Mutation is a good way to solve this problem. Also, we can limit the number of generations in order to stop the algorithm if it is not converging. In this case, we may also use multi-start to increase the probability of finding the global maximum.  \n",
    "\n",
    "### 6. How to stop the algorithm if there exists no solution?\n",
    "We can limit the number of generations in order to stop the algorithm if there exists no solution."
   ]
  }
 ],
 "metadata": {
  "kernelspec": {
   "display_name": "Python 3",
   "language": "python",
   "name": "python3"
  },
  "language_info": {
   "codemirror_mode": {
    "name": "ipython",
    "version": 3
   },
   "file_extension": ".py",
   "mimetype": "text/x-python",
   "name": "python",
   "nbconvert_exporter": "python",
   "pygments_lexer": "ipython3",
   "version": "3.11.3"
  },
  "orig_nbformat": 4
 },
 "nbformat": 4,
 "nbformat_minor": 2
}
