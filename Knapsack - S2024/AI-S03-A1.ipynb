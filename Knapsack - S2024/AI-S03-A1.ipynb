{
 "cells": [
  {
   "cell_type": "code",
   "execution_count": 694,
   "metadata": {},
   "outputs": [],
   "source": [
    "import csv\n",
    "import tqdm\n",
    "from dataclasses import dataclass\n",
    "from typing import Tuple, Callable\n",
    "import numpy as np\n",
    "from enum import Enum\n",
    "import random"
   ]
  },
  {
   "cell_type": "code",
   "execution_count": 695,
   "metadata": {},
   "outputs": [],
   "source": [
    "SNACKS_FILE = \"assets/data/snacks.csv\""
   ]
  },
  {
   "cell_type": "code",
   "execution_count": 696,
   "metadata": {},
   "outputs": [],
   "source": [
    "MIN_VALUE = 12.0\n",
    "MAX_WEIGHT = 10.0\n",
    "MIN_ITEM = 2\n",
    "MAX_ITEM = 4"
   ]
  },
  {
   "cell_type": "code",
   "execution_count": 697,
   "metadata": {},
   "outputs": [],
   "source": [
    "@dataclass\n",
    "class Item:\n",
    "    name: str\n",
    "    value: float\n",
    "    weight: float\n",
    "    \n",
    "    def __str__(self):\n",
    "        return f\"{self.name} - {self.value} - {self.weight}\"\n",
    "    \n",
    "    def __repr__(self):\n",
    "        return str(self)"
   ]
  },
  {
   "cell_type": "code",
   "execution_count": 698,
   "metadata": {},
   "outputs": [],
   "source": [
    "class types(Enum):\n",
    "    single_point = 1\n",
    "    two_point = 2\n",
    "    uniform = 3"
   ]
  },
  {
   "cell_type": "code",
   "execution_count": 699,
   "metadata": {},
   "outputs": [],
   "source": [
    "class Knapsack:\n",
    "    class Chromosome:\n",
    "        class Gene:\n",
    "            def __init__(self, item: Item, percentage: float):\n",
    "                self._item = item\n",
    "                self._percentage = percentage\n",
    "\n",
    "            @property\n",
    "            def item(self):\n",
    "                return self._item\n",
    "\n",
    "            @property\n",
    "            def percentage(self):\n",
    "                return self._percentage\n",
    "\n",
    "            @percentage.setter\n",
    "            def percentage(self, value: float):\n",
    "                self._percentage = value\n",
    "\n",
    "            def __str__(self):\n",
    "                return f\"{self._item.name} - {self._percentage}\"\n",
    "\n",
    "            def __repr__(self):\n",
    "                return str(self)\n",
    "\n",
    "            @property\n",
    "            def value(self):\n",
    "                return self._item.value * self._percentage\n",
    "\n",
    "            @property\n",
    "            def weight(self):\n",
    "                return self._item.weight * self._percentage\n",
    "\n",
    "        def __init__(self, genes: list[Gene]):\n",
    "            self._genes = genes\n",
    "\n",
    "        @property\n",
    "        def genes(self):\n",
    "            return self._genes\n",
    "\n",
    "        def __str__(self):\n",
    "            return (\n",
    "                \"Chromosome: \\n\"\n",
    "                + \"\\n\".join([str(gene) for gene in self._genes])\n",
    "                + f\"\\n------------\\nValue: {self.value}\\nWeight: {self.weight}\\nItems: {self.num_of_items()}\\n------------\\n\"\n",
    "            )\n",
    "\n",
    "        def __repr__(self):\n",
    "            return str(self)\n",
    "\n",
    "        @property\n",
    "        def value(self):\n",
    "            return sum([gene.value for gene in self._genes])\n",
    "\n",
    "        @property\n",
    "        def weight(self):\n",
    "            return sum([gene.weight for gene in self._genes])\n",
    "\n",
    "        def num_of_items(self):\n",
    "            return len([gene for gene in self._genes if gene.percentage > 0])\n",
    "\n",
    "        def __eq__(self, other):\n",
    "            return self._genes == other._genes\n",
    "\n",
    "        def __hash__(self):\n",
    "            return hash(tuple(self._genes))\n",
    "\n",
    "        def __len__(self):\n",
    "            return len(self._genes)\n",
    "\n",
    "        def __getitem__(self, index):\n",
    "            return self._genes[index]\n",
    "\n",
    "        def __setitem__(self, index, value):\n",
    "            self._genes[index] = value\n",
    "\n",
    "        def __iter__(self):\n",
    "            return iter(self._genes)\n",
    "\n",
    "    def __init__(\n",
    "        self,\n",
    "        items: list[Item],\n",
    "        maxWeight: float,\n",
    "        minItem: int,\n",
    "        maxItem: int,\n",
    "        fitness_function: Callable,\n",
    "        selection_function: Callable,\n",
    "        crossover_function: Callable,\n",
    "        mutation_function: Callable,\n",
    "        choose_parents_function: Callable,\n",
    "        choose_survivors_function: Callable,\n",
    "        population_size: int = 1000,\n",
    "        mutation_rate: float = 0.1,\n",
    "        crossover_rate: float = 0.7,\n",
    "        max_generations: int = 1000,\n",
    "        stagnation_limit: int = 100,\n",
    "        type: types = types.single_point\n",
    "    ):\n",
    "        self._items = items\n",
    "        self._maxWeight = maxWeight\n",
    "        self._minItem = minItem\n",
    "        self._maxItem = maxItem\n",
    "        self._fitness_function = fitness_function\n",
    "        self._selection_function = selection_function\n",
    "        self._crossover_function = crossover_function\n",
    "        self._mutation_function = mutation_function\n",
    "        self._choose_parents_function = choose_parents_function\n",
    "        self._choose_survivors_function = choose_survivors_function\n",
    "        self._population_size = population_size\n",
    "        self._mutation_rate = mutation_rate\n",
    "        self._crossover_rate = crossover_rate\n",
    "        self._max_generations = max_generations\n",
    "        self._stagnation_limit = stagnation_limit\n",
    "        self._best_fitness = -1\n",
    "        self._stagnation_counter = 0\n",
    "        self._population = self._generate_population()\n",
    "        self._type = type\n",
    "\n",
    "    def _generate_population(self) -> list[Chromosome]:\n",
    "        return [\n",
    "            self.Chromosome(\n",
    "                [\n",
    "                    self.Chromosome.Gene(\n",
    "                        item,\n",
    "                        0 if np.random.uniform(0, 1) < 0.3 else np.random.uniform(0, 1),\n",
    "                    )\n",
    "                    for item in self._items\n",
    "                ]\n",
    "            )\n",
    "            for _ in range(self._population_size)\n",
    "        ]\n",
    "\n",
    "    def _fitness(self, chromosome: Chromosome) -> float:\n",
    "        return self._fitness_function(chromosome)\n",
    "\n",
    "    def _selection(self, population: list[Chromosome]) -> list[Chromosome]:\n",
    "        return self._selection_function(population)\n",
    "\n",
    "    def _crossover(\n",
    "        self, parents: Tuple[Chromosome, Chromosome]\n",
    "    ) -> Tuple[Chromosome, Chromosome]:\n",
    "        return self._crossover_function(parents, self._crossover_rate, self._type)\n",
    "\n",
    "    def _mutation(self, chromosome: Chromosome) -> Chromosome:\n",
    "        if np.random.uniform(0, 1) < self._mutation_rate:\n",
    "            return self._mutation_function(chromosome)\n",
    "        return chromosome\n",
    "\n",
    "    def _choose_parents(\n",
    "        self, population: list[Chromosome]\n",
    "    ) -> Tuple[Chromosome, Chromosome]:\n",
    "        return self._choose_parents_function(population)\n",
    "\n",
    "    def _choose_survivors(\n",
    "        self, population: list[Chromosome], children: list[Chromosome]\n",
    "    ) -> list[Chromosome]:\n",
    "        return self._choose_survivors_function(population, children)\n",
    "\n",
    "    def best_chromosome(self) -> Chromosome:\n",
    "        return max(self._population, key=self._fitness)\n",
    "\n",
    "    def _evolve(self):\n",
    "        new_population = []\n",
    "        for _ in range(self._population_size // 2):\n",
    "            parents = self._choose_parents(self._population)\n",
    "            children = self._crossover(parents)\n",
    "            for child in children:\n",
    "                child = self._mutation(child)\n",
    "                new_population.append(child)\n",
    "        self._choose_survivors(self._population, new_population)\n",
    "        np.random.shuffle(self._population)\n",
    "\n",
    "        best_chromosome_fitness = self._fitness(self.best_chromosome())\n",
    "        print(f\"Best fitness: {best_chromosome_fitness} - Stagnation: {self._stagnation_counter} - Best: {self._best_fitness}\")\n",
    "        if best_chromosome_fitness > self._best_fitness:\n",
    "            self._best_fitness = best_chromosome_fitness\n",
    "            self._stagnation_counter = 0\n",
    "        else:\n",
    "            self._stagnation_counter += 1\n",
    "\n",
    "    def run(self, **kwargs) -> Chromosome:\n",
    "        for generation in tqdm.tqdm(range(self._max_generations)):\n",
    "            self._evolve()\n",
    "\n",
    "            if kwargs.get(\"debug\", True):\n",
    "                self.print_first_3(generation)\n",
    "\n",
    "            if (\n",
    "                self._fitness(self.best_chromosome()) == 1\n",
    "                or self._stagnation_counter >= self._stagnation_limit\n",
    "            ):\n",
    "                if self._stagnation_counter >= self._stagnation_limit:\n",
    "                    print(\"Stagnation limit reached\")\n",
    "                break\n",
    "        return self.best_chromosome()\n",
    "    \n",
    "    def print_first_3(self, generation: int = 1):\n",
    "        print(f\"Generation {generation}\")\n",
    "        for i in range(3):\n",
    "            print(self._population[i])\n",
    "        print(\"------------\")"
   ]
  },
  {
   "cell_type": "code",
   "execution_count": 700,
   "metadata": {},
   "outputs": [],
   "source": [
    "def fitness_function(chromosome: Knapsack.Chromosome) -> float:\n",
    "    WEIGHT_COEFFICIENT = .9\n",
    "    VALUE_COEFFICIENT = .7\n",
    "    ITEMS_COEFFICIENT = .5\n",
    "    \n",
    "    weight = chromosome.weight\n",
    "    value = chromosome.value\n",
    "    items = chromosome.num_of_items()\n",
    "    \n",
    "    weight_penalty = max(0, weight - MAX_WEIGHT) / MAX_WEIGHT\n",
    "    value_penalty = max(0, MIN_VALUE - value) / MIN_VALUE\n",
    "    items_penalty = max(0, items - MAX_ITEM) / MAX_ITEM\n",
    "    items_penalty += max(0, MIN_ITEM - items) / MIN_ITEM\n",
    "    \n",
    "    return 1 / (\n",
    "        WEIGHT_COEFFICIENT * weight_penalty\n",
    "        + VALUE_COEFFICIENT * value_penalty\n",
    "        + ITEMS_COEFFICIENT * items_penalty\n",
    "        + 1\n",
    "    )"
   ]
  },
  {
   "cell_type": "code",
   "execution_count": 701,
   "metadata": {},
   "outputs": [],
   "source": [
    "def choose_survivors(\n",
    "    population: list[Knapsack.Chromosome],\n",
    "    children: list[Knapsack.Chromosome],\n",
    "    selection_rate: float = 0.5,\n",
    ") -> list[Knapsack.Chromosome]:\n",
    "    return sorted(population, key=lambda chromosome: -fitness_function(chromosome))[\n",
    "        : int(len(population) * selection_rate)\n",
    "    ] + sorted(children, key=lambda chromosome: -fitness_function(chromosome))[\n",
    "        : int(len(population) * (1 - selection_rate))\n",
    "    ]"
   ]
  },
  {
   "cell_type": "code",
   "execution_count": 702,
   "metadata": {},
   "outputs": [],
   "source": [
    "def crossover_function(\n",
    "    parents: Tuple[Knapsack.Chromosome, Knapsack.Chromosome],\n",
    "    crossover_rate: float = 0.7,\n",
    "    type: Enum = types.single_point,\n",
    ") -> Tuple[Knapsack.Chromosome, Knapsack.Chromosome]:\n",
    "    if np.random.uniform(0, 1) < crossover_rate:\n",
    "        if type == types.single_point:\n",
    "            genes1, genes2 = parents[0].genes, parents[1].genes\n",
    "            crossover_point = np.random.randint(0, len(genes1))\n",
    "            new_genes1 = genes1[:crossover_point] + genes2[crossover_point:]\n",
    "            new_genes2 = genes2[:crossover_point] + genes1[crossover_point:]\n",
    "            return (\n",
    "                Knapsack.Chromosome(new_genes1),\n",
    "                Knapsack.Chromosome(new_genes2),\n",
    "            )\n",
    "        elif type == types.two_point:\n",
    "            genes1, genes2 = parents[0].genes, parents[1].genes\n",
    "            crossover_point1 = np.random.randint(0, len(genes1))\n",
    "            crossover_point2 = np.random.randint(crossover_point1, len(genes1))\n",
    "            new_genes1 = genes1[:crossover_point1] + genes2[crossover_point1:crossover_point2] + genes1[crossover_point2:]\n",
    "            new_genes2 = genes2[:crossover_point1] + genes1[crossover_point1:crossover_point2] + genes2[crossover_point2:]\n",
    "            return (\n",
    "                Knapsack.Chromosome(new_genes1),\n",
    "                Knapsack.Chromosome(new_genes2),\n",
    "            )\n",
    "        elif type == types.uniform:\n",
    "            genes1, genes2 = parents[0].genes, parents[1].genes\n",
    "            new_genes1 = [gene1 if np.random.uniform(0, 1) < 0.5 else gene2 for gene1, gene2 in zip(genes1, genes2)]\n",
    "            new_genes2 = [gene1 if np.random.uniform(0, 1) < 0.5 else gene2 for gene1, gene2 in zip(genes1, genes2)]\n",
    "            return (\n",
    "                Knapsack.Chromosome(new_genes1),\n",
    "                Knapsack.Chromosome(new_genes2),\n",
    "            )\n",
    "        else:\n",
    "            print(\"Invalid type\")\n",
    "            return None\n",
    "    else:\n",
    "        return parents"
   ]
  },
  {
   "cell_type": "code",
   "execution_count": 703,
   "metadata": {},
   "outputs": [],
   "source": [
    "def choose_parents(population: list[Knapsack.Chromosome]) -> Tuple[Knapsack.Chromosome, Knapsack.Chromosome]:\n",
    "    return tuple(random.sample(population, k=2))"
   ]
  },
  {
   "cell_type": "code",
   "execution_count": 704,
   "metadata": {},
   "outputs": [],
   "source": [
    "def mutation_function(chromosome: Knapsack.Chromosome, mutation_rate: float = 0.1) -> Knapsack.Chromosome:\n",
    "    new_genes = []\n",
    "    for gene in chromosome:\n",
    "        if np.random.uniform(0, 1) < mutation_rate:\n",
    "            gene.percentage = np.random.uniform(0, 1)\n",
    "        new_genes.append(gene)\n",
    "    return Knapsack.Chromosome(new_genes)"
   ]
  },
  {
   "cell_type": "code",
   "execution_count": 705,
   "metadata": {},
   "outputs": [],
   "source": [
    "def read_snacks(file: str) -> list[Item]:\n",
    "    with open(file, \"r\") as f:\n",
    "        reader = csv.reader(f)\n",
    "        next(reader)\n",
    "        return [Item(name, float(value), float(weight)) for name, value, weight in reader]"
   ]
  },
  {
   "cell_type": "code",
   "execution_count": 706,
   "metadata": {},
   "outputs": [],
   "source": [
    "knapsack = Knapsack(\n",
    "    read_snacks(SNACKS_FILE),\n",
    "    MAX_WEIGHT,\n",
    "    MIN_ITEM,\n",
    "    MAX_ITEM,\n",
    "    fitness_function,\n",
    "    choose_survivors,\n",
    "    crossover_function,\n",
    "    mutation_function,\n",
    "    choose_parents,\n",
    "    choose_survivors,\n",
    "    population_size=1000,\n",
    "    mutation_rate=0.1,\n",
    "    crossover_rate=0.7,\n",
    "    max_generations=400,\n",
    "    stagnation_limit=100,\n",
    "    type=types.uniform\n",
    ")\n"
   ]
  },
  {
   "cell_type": "code",
   "execution_count": 707,
   "metadata": {},
   "outputs": [
    {
     "name": "stderr",
     "output_type": "stream",
     "text": [
      "  0%|          | 0/400 [00:00<?, ?it/s]"
     ]
    },
    {
     "name": "stderr",
     "output_type": "stream",
     "text": [
      "  0%|          | 2/400 [00:00<00:50,  7.88it/s]"
     ]
    },
    {
     "name": "stdout",
     "output_type": "stream",
     "text": [
      "Best fitness: 0.4075812342132593 - Stagnation: 0 - Best: -1\n",
      "Best fitness: 0.4075812342132593 - Stagnation: 0 - Best: 0.4075812342132593\n"
     ]
    },
    {
     "name": "stderr",
     "output_type": "stream",
     "text": [
      "  1%|          | 4/400 [00:00<00:41,  9.51it/s]"
     ]
    },
    {
     "name": "stdout",
     "output_type": "stream",
     "text": [
      "Best fitness: 0.4075812342132593 - Stagnation: 1 - Best: 0.4075812342132593\n",
      "Best fitness: 0.4075812342132593 - Stagnation: 2 - Best: 0.4075812342132593\n",
      "Best fitness: 0.4075812342132593 - Stagnation: 3 - Best: 0.4075812342132593\n"
     ]
    },
    {
     "name": "stderr",
     "output_type": "stream",
     "text": [
      "  2%|▏         | 7/400 [00:00<00:42,  9.20it/s]"
     ]
    },
    {
     "name": "stdout",
     "output_type": "stream",
     "text": [
      "Best fitness: 0.4075812342132593 - Stagnation: 4 - Best: 0.4075812342132593\n",
      "Best fitness: 0.4075812342132593 - Stagnation: 5 - Best: 0.4075812342132593\n",
      "Best fitness: 0.4075812342132593 - Stagnation: 6 - Best: 0.4075812342132593\n"
     ]
    },
    {
     "name": "stderr",
     "output_type": "stream",
     "text": [
      "  2%|▎         | 10/400 [00:01<00:42,  9.26it/s]"
     ]
    },
    {
     "name": "stdout",
     "output_type": "stream",
     "text": [
      "Best fitness: 0.4075812342132593 - Stagnation: 7 - Best: 0.4075812342132593\n",
      "Best fitness: 0.4075812342132593 - Stagnation: 8 - Best: 0.4075812342132593\n",
      "Best fitness: 0.4075812342132593 - Stagnation: 9 - Best: 0.4075812342132593\n"
     ]
    },
    {
     "name": "stderr",
     "output_type": "stream",
     "text": [
      "  3%|▎         | 13/400 [00:01<00:44,  8.61it/s]"
     ]
    },
    {
     "name": "stdout",
     "output_type": "stream",
     "text": [
      "Best fitness: 0.4075812342132593 - Stagnation: 10 - Best: 0.4075812342132593\n",
      "Best fitness: 0.4075812342132593 - Stagnation: 11 - Best: 0.4075812342132593\n"
     ]
    },
    {
     "name": "stderr",
     "output_type": "stream",
     "text": [
      "  4%|▍         | 15/400 [00:01<00:41,  9.32it/s]"
     ]
    },
    {
     "name": "stdout",
     "output_type": "stream",
     "text": [
      "Best fitness: 0.35930198067970537 - Stagnation: 12 - Best: 0.4075812342132593\n",
      "Best fitness: 0.3778664896385966 - Stagnation: 13 - Best: 0.4075812342132593\n",
      "Best fitness: 0.3778664896385966 - Stagnation: 14 - Best: 0.4075812342132593\n",
      "Best fitness: 0.3778664896385966 - Stagnation: 15 - Best: 0.4075812342132593\n"
     ]
    },
    {
     "name": "stderr",
     "output_type": "stream",
     "text": [
      "  4%|▍         | 18/400 [00:01<00:38,  9.80it/s]"
     ]
    },
    {
     "name": "stdout",
     "output_type": "stream",
     "text": [
      "Best fitness: 0.30226015110526105 - Stagnation: 16 - Best: 0.4075812342132593\n",
      "Best fitness: 0.30226015110526105 - Stagnation: 17 - Best: 0.4075812342132593\n",
      "Best fitness: 0.30226015110526105 - Stagnation: 18 - Best: 0.4075812342132593\n"
     ]
    },
    {
     "name": "stderr",
     "output_type": "stream",
     "text": [
      "  6%|▌         | 22/400 [00:02<00:43,  8.69it/s]"
     ]
    },
    {
     "name": "stdout",
     "output_type": "stream",
     "text": [
      "Best fitness: 0.30226015110526105 - Stagnation: 19 - Best: 0.4075812342132593\n",
      "Best fitness: 0.30226015110526105 - Stagnation: 20 - Best: 0.4075812342132593\n"
     ]
    },
    {
     "name": "stderr",
     "output_type": "stream",
     "text": [
      "  6%|▌         | 24/400 [00:02<00:49,  7.63it/s]"
     ]
    },
    {
     "name": "stdout",
     "output_type": "stream",
     "text": [
      "Best fitness: 0.30226015110526105 - Stagnation: 21 - Best: 0.4075812342132593\n",
      "Best fitness: 0.30226015110526105 - Stagnation: 22 - Best: 0.4075812342132593\n"
     ]
    },
    {
     "name": "stderr",
     "output_type": "stream",
     "text": [
      "  6%|▋         | 26/400 [00:02<00:50,  7.38it/s]"
     ]
    },
    {
     "name": "stdout",
     "output_type": "stream",
     "text": [
      "Best fitness: 0.30226015110526105 - Stagnation: 23 - Best: 0.4075812342132593\n",
      "Best fitness: 0.30226015110526105 - Stagnation: 24 - Best: 0.4075812342132593\n"
     ]
    },
    {
     "name": "stderr",
     "output_type": "stream",
     "text": [
      "  7%|▋         | 28/400 [00:03<00:50,  7.41it/s]"
     ]
    },
    {
     "name": "stdout",
     "output_type": "stream",
     "text": [
      "Best fitness: 0.30226015110526105 - Stagnation: 25 - Best: 0.4075812342132593\n",
      "Best fitness: 0.2950598704738541 - Stagnation: 26 - Best: 0.4075812342132593\n"
     ]
    },
    {
     "name": "stderr",
     "output_type": "stream",
     "text": [
      "  8%|▊         | 31/400 [00:03<00:46,  7.86it/s]"
     ]
    },
    {
     "name": "stdout",
     "output_type": "stream",
     "text": [
      "Best fitness: 0.2950598704738541 - Stagnation: 27 - Best: 0.4075812342132593\n",
      "Best fitness: 0.2950598704738541 - Stagnation: 28 - Best: 0.4075812342132593\n",
      "Best fitness: 0.2950598704738541 - Stagnation: 29 - Best: 0.4075812342132593\n"
     ]
    },
    {
     "name": "stderr",
     "output_type": "stream",
     "text": [
      "  8%|▊         | 32/400 [00:03<00:44,  8.18it/s]"
     ]
    },
    {
     "name": "stdout",
     "output_type": "stream",
     "text": [
      "Best fitness: 0.2950598704738541 - Stagnation: 30 - Best: 0.4075812342132593\n",
      "Best fitness: 0.2950598704738541 - Stagnation: 31 - Best: 0.4075812342132593\n",
      "Best fitness: 0.2950598704738541 - Stagnation: 32 - Best: 0.4075812342132593\n"
     ]
    },
    {
     "name": "stderr",
     "output_type": "stream",
     "text": [
      "  9%|▉         | 36/400 [00:04<00:44,  8.15it/s]"
     ]
    },
    {
     "name": "stdout",
     "output_type": "stream",
     "text": [
      "Best fitness: 0.2950598704738541 - Stagnation: 33 - Best: 0.4075812342132593\n",
      "Best fitness: 0.24732593940253492 - Stagnation: 34 - Best: 0.4075812342132593\n"
     ]
    },
    {
     "name": "stderr",
     "output_type": "stream",
     "text": [
      " 10%|▉         | 38/400 [00:04<00:50,  7.19it/s]"
     ]
    },
    {
     "name": "stdout",
     "output_type": "stream",
     "text": [
      "Best fitness: 0.24732593940253492 - Stagnation: 35 - Best: 0.4075812342132593\n",
      "Best fitness: 0.24732593940253492 - Stagnation: 36 - Best: 0.4075812342132593\n"
     ]
    },
    {
     "name": "stderr",
     "output_type": "stream",
     "text": [
      " 10%|▉         | 39/400 [00:04<00:48,  7.37it/s]"
     ]
    },
    {
     "name": "stdout",
     "output_type": "stream",
     "text": [
      "Best fitness: 0.24732593940253492 - Stagnation: 37 - Best: 0.4075812342132593\n",
      "Best fitness: 0.24732593940253492 - Stagnation: 38 - Best: 0.4075812342132593\n",
      "Best fitness: 0.24732593940253492 - Stagnation: 39 - Best: 0.4075812342132593\n"
     ]
    },
    {
     "name": "stderr",
     "output_type": "stream",
     "text": [
      " 11%|█         | 43/400 [00:05<00:46,  7.75it/s]"
     ]
    },
    {
     "name": "stdout",
     "output_type": "stream",
     "text": [
      "Best fitness: 0.24732593940253492 - Stagnation: 40 - Best: 0.4075812342132593\n",
      "Best fitness: 0.24732593940253492 - Stagnation: 41 - Best: 0.4075812342132593\n"
     ]
    },
    {
     "name": "stderr",
     "output_type": "stream",
     "text": [
      " 11%|█▏        | 45/400 [00:05<00:47,  7.40it/s]"
     ]
    },
    {
     "name": "stdout",
     "output_type": "stream",
     "text": [
      "Best fitness: 0.24732593940253492 - Stagnation: 42 - Best: 0.4075812342132593\n",
      "Best fitness: 0.24732593940253492 - Stagnation: 43 - Best: 0.4075812342132593\n"
     ]
    },
    {
     "name": "stderr",
     "output_type": "stream",
     "text": [
      " 12%|█▏        | 47/400 [00:05<00:49,  7.18it/s]"
     ]
    },
    {
     "name": "stdout",
     "output_type": "stream",
     "text": [
      "Best fitness: 0.24732593940253492 - Stagnation: 44 - Best: 0.4075812342132593\n",
      "Best fitness: 0.24732593940253492 - Stagnation: 45 - Best: 0.4075812342132593\n"
     ]
    },
    {
     "name": "stderr",
     "output_type": "stream",
     "text": [
      " 12%|█▏        | 49/400 [00:05<00:41,  8.38it/s]"
     ]
    },
    {
     "name": "stdout",
     "output_type": "stream",
     "text": [
      "Best fitness: 0.24732593940253492 - Stagnation: 46 - Best: 0.4075812342132593\n",
      "Best fitness: 0.24732593940253492 - Stagnation: 47 - Best: 0.4075812342132593\n",
      "Best fitness: 0.24732593940253492 - Stagnation: 48 - Best: 0.4075812342132593\n"
     ]
    },
    {
     "name": "stderr",
     "output_type": "stream",
     "text": [
      " 13%|█▎        | 51/400 [00:06<00:40,  8.55it/s]"
     ]
    },
    {
     "name": "stdout",
     "output_type": "stream",
     "text": [
      "Best fitness: 0.24732593940253492 - Stagnation: 49 - Best: 0.4075812342132593\n",
      "Best fitness: 0.24732593940253492 - Stagnation: 50 - Best: 0.4075812342132593\n",
      "Best fitness: 0.24732593940253492 - Stagnation: 51 - Best: 0.4075812342132593\n"
     ]
    },
    {
     "name": "stderr",
     "output_type": "stream",
     "text": [
      " 14%|█▍        | 55/400 [00:06<00:35,  9.80it/s]"
     ]
    },
    {
     "name": "stdout",
     "output_type": "stream",
     "text": [
      "Best fitness: 0.24732593940253492 - Stagnation: 52 - Best: 0.4075812342132593\n",
      "Best fitness: 0.24732593940253492 - Stagnation: 53 - Best: 0.4075812342132593\n",
      "Best fitness: 0.24732593940253492 - Stagnation: 54 - Best: 0.4075812342132593\n"
     ]
    },
    {
     "name": "stderr",
     "output_type": "stream",
     "text": [
      " 15%|█▍        | 59/400 [00:06<00:34,  9.87it/s]"
     ]
    },
    {
     "name": "stdout",
     "output_type": "stream",
     "text": [
      "Best fitness: 0.24732593940253492 - Stagnation: 55 - Best: 0.4075812342132593\n",
      "Best fitness: 0.24732593940253492 - Stagnation: 56 - Best: 0.4075812342132593\n",
      "Best fitness: 0.24732593940253492 - Stagnation: 57 - Best: 0.4075812342132593\n"
     ]
    },
    {
     "name": "stderr",
     "output_type": "stream",
     "text": [
      " 15%|█▌        | 61/400 [00:07<00:34,  9.95it/s]"
     ]
    },
    {
     "name": "stdout",
     "output_type": "stream",
     "text": [
      "Best fitness: 0.24732593940253492 - Stagnation: 58 - Best: 0.4075812342132593\n",
      "Best fitness: 0.24732593940253492 - Stagnation: 59 - Best: 0.4075812342132593\n",
      "Best fitness: 0.24732593940253492 - Stagnation: 60 - Best: 0.4075812342132593\n"
     ]
    },
    {
     "name": "stderr",
     "output_type": "stream",
     "text": [
      " 16%|█▋        | 65/400 [00:07<00:32, 10.17it/s]"
     ]
    },
    {
     "name": "stdout",
     "output_type": "stream",
     "text": [
      "Best fitness: 0.24732593940253492 - Stagnation: 61 - Best: 0.4075812342132593\n",
      "Best fitness: 0.24732593940253492 - Stagnation: 62 - Best: 0.4075812342132593\n",
      "Best fitness: 0.24732593940253492 - Stagnation: 63 - Best: 0.4075812342132593\n"
     ]
    },
    {
     "name": "stderr",
     "output_type": "stream",
     "text": [
      " 17%|█▋        | 67/400 [00:07<00:34,  9.64it/s]"
     ]
    },
    {
     "name": "stdout",
     "output_type": "stream",
     "text": [
      "Best fitness: 0.24732593940253492 - Stagnation: 64 - Best: 0.4075812342132593\n",
      "Best fitness: 0.24732593940253492 - Stagnation: 65 - Best: 0.4075812342132593\n"
     ]
    },
    {
     "name": "stderr",
     "output_type": "stream",
     "text": [
      " 17%|█▋        | 69/400 [00:08<00:38,  8.70it/s]"
     ]
    },
    {
     "name": "stdout",
     "output_type": "stream",
     "text": [
      "Best fitness: 0.24732593940253492 - Stagnation: 66 - Best: 0.4075812342132593\n",
      "Best fitness: 0.21980193350025135 - Stagnation: 67 - Best: 0.4075812342132593\n",
      "Best fitness: 0.21980193350025135 - Stagnation: 68 - Best: 0.4075812342132593\n"
     ]
    },
    {
     "name": "stderr",
     "output_type": "stream",
     "text": [
      " 18%|█▊        | 72/400 [00:08<00:36,  9.05it/s]"
     ]
    },
    {
     "name": "stdout",
     "output_type": "stream",
     "text": [
      "Best fitness: 0.21980193350025135 - Stagnation: 69 - Best: 0.4075812342132593\n",
      "Best fitness: 0.21980193350025135 - Stagnation: 70 - Best: 0.4075812342132593\n",
      "Best fitness: 0.21980193350025135 - Stagnation: 71 - Best: 0.4075812342132593\n"
     ]
    },
    {
     "name": "stderr",
     "output_type": "stream",
     "text": [
      " 19%|█▉        | 75/400 [00:08<00:38,  8.55it/s]"
     ]
    },
    {
     "name": "stdout",
     "output_type": "stream",
     "text": [
      "Best fitness: 0.21980193350025135 - Stagnation: 72 - Best: 0.4075812342132593\n",
      "Best fitness: 0.21980193350025135 - Stagnation: 73 - Best: 0.4075812342132593\n"
     ]
    },
    {
     "name": "stderr",
     "output_type": "stream",
     "text": [
      " 19%|█▉        | 77/400 [00:08<00:39,  8.15it/s]"
     ]
    },
    {
     "name": "stdout",
     "output_type": "stream",
     "text": [
      "Best fitness: 0.21980193350025135 - Stagnation: 74 - Best: 0.4075812342132593\n",
      "Best fitness: 0.21980193350025135 - Stagnation: 75 - Best: 0.4075812342132593\n"
     ]
    },
    {
     "name": "stderr",
     "output_type": "stream",
     "text": [
      " 20%|█▉        | 79/400 [00:09<00:39,  8.12it/s]"
     ]
    },
    {
     "name": "stdout",
     "output_type": "stream",
     "text": [
      "Best fitness: 0.21980193350025135 - Stagnation: 76 - Best: 0.4075812342132593\n",
      "Best fitness: 0.21980193350025135 - Stagnation: 77 - Best: 0.4075812342132593\n",
      "Best fitness: 0.21980193350025135 - Stagnation: 78 - Best: 0.4075812342132593\n"
     ]
    },
    {
     "name": "stderr",
     "output_type": "stream",
     "text": [
      " 20%|██        | 82/400 [00:09<00:36,  8.61it/s]"
     ]
    },
    {
     "name": "stdout",
     "output_type": "stream",
     "text": [
      "Best fitness: 0.21980193350025135 - Stagnation: 79 - Best: 0.4075812342132593\n",
      "Best fitness: 0.21980193350025135 - Stagnation: 80 - Best: 0.4075812342132593\n",
      "Best fitness: 0.21980193350025135 - Stagnation: 81 - Best: 0.4075812342132593\n"
     ]
    },
    {
     "name": "stderr",
     "output_type": "stream",
     "text": [
      " 21%|██        | 84/400 [00:09<00:32,  9.61it/s]"
     ]
    },
    {
     "name": "stdout",
     "output_type": "stream",
     "text": [
      "Best fitness: 0.21980193350025135 - Stagnation: 82 - Best: 0.4075812342132593\n",
      "Best fitness: 0.21980193350025135 - Stagnation: 83 - Best: 0.4075812342132593\n"
     ]
    },
    {
     "name": "stderr",
     "output_type": "stream",
     "text": [
      " 22%|██▏       | 87/400 [00:10<00:35,  8.71it/s]"
     ]
    },
    {
     "name": "stdout",
     "output_type": "stream",
     "text": [
      "Best fitness: 0.21980193350025135 - Stagnation: 84 - Best: 0.4075812342132593\n",
      "Best fitness: 0.21980193350025135 - Stagnation: 85 - Best: 0.4075812342132593\n",
      "Best fitness: 0.21980193350025135 - Stagnation: 86 - Best: 0.4075812342132593\n"
     ]
    },
    {
     "name": "stderr",
     "output_type": "stream",
     "text": [
      " 22%|██▏       | 89/400 [00:10<00:33,  9.18it/s]"
     ]
    },
    {
     "name": "stdout",
     "output_type": "stream",
     "text": [
      "Best fitness: 0.21980193350025135 - Stagnation: 87 - Best: 0.4075812342132593\n",
      "Best fitness: 0.21980193350025135 - Stagnation: 88 - Best: 0.4075812342132593\n",
      "Best fitness: 0.21980193350025135 - Stagnation: 89 - Best: 0.4075812342132593\n"
     ]
    },
    {
     "name": "stderr",
     "output_type": "stream",
     "text": [
      " 23%|██▎       | 93/400 [00:10<00:36,  8.33it/s]"
     ]
    },
    {
     "name": "stdout",
     "output_type": "stream",
     "text": [
      "Best fitness: 0.21980193350025135 - Stagnation: 90 - Best: 0.4075812342132593\n",
      "Best fitness: 0.21980193350025135 - Stagnation: 91 - Best: 0.4075812342132593\n"
     ]
    },
    {
     "name": "stderr",
     "output_type": "stream",
     "text": [
      " 24%|██▍       | 95/400 [00:11<00:36,  8.26it/s]"
     ]
    },
    {
     "name": "stdout",
     "output_type": "stream",
     "text": [
      "Best fitness: 0.21980193350025135 - Stagnation: 92 - Best: 0.4075812342132593\n",
      "Best fitness: 0.21980193350025135 - Stagnation: 93 - Best: 0.4075812342132593\n"
     ]
    },
    {
     "name": "stderr",
     "output_type": "stream",
     "text": [
      " 24%|██▍       | 98/400 [00:11<00:31,  9.53it/s]"
     ]
    },
    {
     "name": "stdout",
     "output_type": "stream",
     "text": [
      "Best fitness: 0.21980193350025135 - Stagnation: 94 - Best: 0.4075812342132593\n",
      "Best fitness: 0.21980193350025135 - Stagnation: 95 - Best: 0.4075812342132593\n",
      "Best fitness: 0.21980193350025135 - Stagnation: 96 - Best: 0.4075812342132593\n"
     ]
    },
    {
     "name": "stderr",
     "output_type": "stream",
     "text": [
      " 25%|██▌       | 100/400 [00:11<00:34,  8.61it/s]"
     ]
    },
    {
     "name": "stdout",
     "output_type": "stream",
     "text": [
      "Best fitness: 0.21980193350025135 - Stagnation: 97 - Best: 0.4075812342132593\n",
      "Best fitness: 0.21980193350025135 - Stagnation: 98 - Best: 0.4075812342132593\n",
      "Best fitness: 0.21980193350025135 - Stagnation: 99 - Best: 0.4075812342132593\n",
      "Stagnation limit reached\n"
     ]
    },
    {
     "name": "stderr",
     "output_type": "stream",
     "text": [
      "\n"
     ]
    }
   ],
   "source": [
    "best_chromosome = knapsack.run(debug=False)"
   ]
  },
  {
   "cell_type": "code",
   "execution_count": 708,
   "metadata": {},
   "outputs": [],
   "source": [
    "with open(\"assets/data/result.txt\", \"w\") as f:\n",
    "    f.write(str(best_chromosome))"
   ]
  }
 ],
 "metadata": {
  "kernelspec": {
   "display_name": "Python 3",
   "language": "python",
   "name": "python3"
  },
  "language_info": {
   "codemirror_mode": {
    "name": "ipython",
    "version": 3
   },
   "file_extension": ".py",
   "mimetype": "text/x-python",
   "name": "python",
   "nbconvert_exporter": "python",
   "pygments_lexer": "ipython3",
   "version": "3.11.3"
  }
 },
 "nbformat": 4,
 "nbformat_minor": 2
}
